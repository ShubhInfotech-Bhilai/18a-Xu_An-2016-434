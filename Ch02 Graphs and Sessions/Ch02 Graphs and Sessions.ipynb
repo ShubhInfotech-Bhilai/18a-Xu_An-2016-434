{
 "cells": [
  {
   "cell_type": "code",
   "execution_count": 1,
   "metadata": {},
   "outputs": [],
   "source": [
    "# Created by Xu An on 2018/10/19.\n",
    "# Copyright © 2018 Xu An. All rights reserved."
   ]
  },
  {
   "cell_type": "markdown",
   "metadata": {},
   "source": [
    "# Homework: Ch02 Graphs and Sessions "
   ]
  },
  {
   "cell_type": "markdown",
   "metadata": {},
   "source": [
    "#### 1. 在一个notebook文件中构建一张图，实现两个数的加法操作，并在两个不同的会话中执行图。"
   ]
  },
  {
   "cell_type": "code",
   "execution_count": 2,
   "metadata": {},
   "outputs": [],
   "source": [
    "import tensorflow as tf  # import TensorFlow module"
   ]
  },
  {
   "cell_type": "code",
   "execution_count": 15,
   "metadata": {},
   "outputs": [
    {
     "name": "stdout",
     "output_type": "stream",
     "text": [
      "30\n",
      "30\n"
     ]
    }
   ],
   "source": [
    "# Create a graph\n",
    "a = tf.add(10,20)\n",
    "\n",
    "# Create session 1\n",
    "sess1 = tf.Session()\n",
    "# Execute session 1\n",
    "res1 = sess1.run(a)\n",
    "# Print the result of session1\n",
    "print(res1)\n",
    "\n",
    "\n",
    "# Create session 2 using Context Manager\n",
    "with tf.Session() as sess2:\n",
    "    print(sess2.run(a))"
   ]
  },
  {
   "cell_type": "markdown",
   "metadata": {},
   "source": [
    "#### 2.查找资料学习TensorFlow中执行常量基本运算API的基本用法，如`tf.add`、`tf.subtract`、`tf.multiply`、`tf.divide`、`tf.mod`、`tf.pow`、`tf.square`、`tf.sqrt`等的用法，并在notebook中演示其基本用法。"
   ]
  },
  {
   "cell_type": "code",
   "execution_count": 29,
   "metadata": {},
   "outputs": [
    {
     "name": "stdout",
     "output_type": "stream",
     "text": [
      "35.0\n",
      "-13.0\n",
      "-468.0\n",
      "2.5\n",
      "1.0\n",
      "1.0\n",
      "100.0\n",
      "6.0\n"
     ]
    }
   ],
   "source": [
    "# Step1: Create the data\n",
    "a, b, c, d, e = tf.constant(10.0), tf.constant(25.0), tf.constant(36.0),tf.constant(48.0),tf.constant(2.0)\n",
    "\n",
    "# Step2: Create graphs\n",
    "add = tf.add(a,b)\n",
    "sub = tf.subtract(add, d)\n",
    "mul = tf.multiply(sub, c)\n",
    "div = tf.divide(b,a)\n",
    "mod = tf.mod(b,e)\n",
    "pw = tf.pow(mod,b)\n",
    "sqe = tf.square(a)\n",
    "sqt = tf.sqrt(c)  # allowed values: float16, bfloat16, float32, float64, complex64, complex128\n",
    "\n",
    "\n",
    "# Step3: Execute the sessions\n",
    "for i in (add,sub,mul,div,mod,pw,sqe,sqt):\n",
    "    with tf.Session() as sess:\n",
    "        print(sess.run(i))\n",
    "\n",
    "\n"
   ]
  },
  {
   "cell_type": "code",
   "execution_count": null,
   "metadata": {},
   "outputs": [],
   "source": []
  },
  {
   "cell_type": "code",
   "execution_count": null,
   "metadata": {},
   "outputs": [],
   "source": []
  }
 ],
 "metadata": {
  "kernelspec": {
   "display_name": "Python 3",
   "language": "python",
   "name": "python3"
  },
  "language_info": {
   "codemirror_mode": {
    "name": "ipython",
    "version": 3
   },
   "file_extension": ".py",
   "mimetype": "text/x-python",
   "name": "python",
   "nbconvert_exporter": "python",
   "pygments_lexer": "ipython3",
   "version": "3.6.4"
  }
 },
 "nbformat": 4,
 "nbformat_minor": 2
}
