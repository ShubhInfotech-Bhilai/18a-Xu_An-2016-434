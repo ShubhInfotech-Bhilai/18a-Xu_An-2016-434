{
 "cells": [
  {
   "cell_type": "code",
   "execution_count": 1,
   "metadata": {},
   "outputs": [],
   "source": [
    "# Created by Xu An on 2018/10/27.\n",
    "# Copyright © 2018 Xu An. All rights reserved."
   ]
  },
  {
   "cell_type": "markdown",
   "metadata": {},
   "source": [
    "# Homework: Ch04 Constant Variable & Placeholder"
   ]
  },
  {
   "cell_type": "markdown",
   "metadata": {},
   "source": [
    "### 1. 构建二元线性回归模型，其中模型中的参数使用`tf.Variable()`构建，模型的样本输入使用`tf.placeholder`代替。写出模型结构。"
   ]
  },
  {
   "cell_type": "code",
   "execution_count": 4,
   "metadata": {},
   "outputs": [],
   "source": [
    "import tensorflow as tf\n",
    "import numpy as np\n",
    "\n",
    "def LinerRegression(train_x,train_y,epochs=1000):   # 确定训练集和迭代次数\n",
    "    x = tf.placeholder(tf.float32)   # 将x,y用占位符代替\n",
    "    y = tf.placeholder(tf.float32)\n",
    "    w = tf.Variable(np.random.randn(),dtype=tf.float32) # 随机指定权重参数\n",
    "    b = tf.Variable(np.random.randn(),dtype=tf.float32) # 随机指定偏差参数\n",
    "    \n",
    "    # 定义模型\n",
    "    pred = tf.add(tf.mul(w,x),b)\n",
    "    \n",
    "    # 定义损失函数\n",
    "    x_count = train_x.shape[0] # 求得x的个数\n",
    "    cost = tf.reduce_sum(tf.pow(pred-y,2))\n",
    "    \n",
    "    # 优化器使用梯度下降法\n",
    "    x_count = train_x.shape[0] # 求得x的个数\n",
    "    optimizer = tf.train.GradientDescentOptimizer().minimize(cost)/x_count\n",
    "    \n",
    "    # 初始化所有变量\n",
    "    init = tf.initialize_all_variables()\n",
    "    \n",
    "    sess = tf.Session()\n",
    "    sess.run(init)\n",
    "    \n",
    "    # 对参数进行迭代\n",
    "    for index in range(epochs):\n",
    "        sess.run(optimizer,{x:train_x,y:train_y}) # session的run函数中，按照传入的操作向上查找，凡是操作中涉及的无论是变量、常量都要参与运算，占位符则要在run过程中以字典形式传入\n",
    "    w = sess.run(w)\n",
    "    b = sess.run(b)\n",
    "    \n",
    "    #输出参数\n",
    "    return w,b"
   ]
  },
  {
   "cell_type": "markdown",
   "metadata": {},
   "source": [
    "### 2. 使用`tf.placeholder`代替上述样本中的标记，写出对于一个样本的代价。"
   ]
  },
  {
   "cell_type": "code",
   "execution_count": null,
   "metadata": {},
   "outputs": [],
   "source": [
    "import tensorflow as tf\n",
    "import numpy as np\n",
    "\n",
    "def LinerRegression(train_x,train_y,epochs=1000):   # 确定训练集和迭代次数\n",
    "    x = tf.placeholder(tf.float32)   # 将x,y用占位符代替\n",
    "    y = tf.placeholder(tf.float32)\n",
    "    w = tf.placeholder(dtype=tf.float32, shape=[]) # 随机指定权重参数\n",
    "    b = tf.placeholder(dtype=tf.float32, shape=[]) # 随机指定偏差参数\n",
    "    \n",
    "    # 定义模型\n",
    "    pred = tf.add(tf.mul(w,x),b)\n",
    "    \n",
    "    # 定义损失函数\n",
    "    x_count = train_x.shape[0] # 求得x的个数\n",
    "    cost = tf.reduce_sum(tf.pow(pred-y,2))\n",
    "    \n",
    "    # 优化器使用梯度下降法\n",
    "    optimizer = tf.train.GradientDescentOptimizer().minimize(cost)\n",
    "    \n",
    "    # 初始化所有变量\n",
    "    init = tf.initialize_all_variables()\n",
    "    \n",
    "    sess = tf.Session()\n",
    "    sess.run(init)\n",
    "    \n",
    "    # 对参数进行迭代\n",
    "    for index in range(epochs):\n",
    "        sess.run(optimizer,{x:train_x,y:train_y}) \n",
    "    w = sess.run(w)\n",
    "    b = sess.run(b)\n",
    "    \n",
    "    #输出参数\n",
    "    return w,b"
   ]
  }
 ],
 "metadata": {
  "kernelspec": {
   "display_name": "Python 3",
   "language": "python",
   "name": "python3"
  },
  "language_info": {
   "codemirror_mode": {
    "name": "ipython",
    "version": 3
   },
   "file_extension": ".py",
   "mimetype": "text/x-python",
   "name": "python",
   "nbconvert_exporter": "python",
   "pygments_lexer": "ipython3",
   "version": "3.6.4"
  }
 },
 "nbformat": 4,
 "nbformat_minor": 2
}
